{
 "cells": [
  {
   "cell_type": "markdown",
   "metadata": {},
   "source": [
    "# Question 1: Given that log(2) = 0.30103, log(5) = 0.69897, and log(7)=0.84510, estimate log(4) using a Lagrange polynomial."
   ]
  },
  {
   "cell_type": "code",
   "execution_count": 1,
   "metadata": {},
   "outputs": [
    {
     "data": {
      "text/plain": [
       "0.5901559999999999"
      ]
     },
     "execution_count": 1,
     "metadata": {},
     "output_type": "execute_result"
    }
   ],
   "source": [
    "# Constants\n",
    "x0, y0 = 2, 0.30103\n",
    "x1, y1 = 5, 0.69897\n",
    "x2, y2 = 7, 0.84510\n",
    "x = 4\n",
    "\n",
    "# Compute P(4) using Lagrange Polynomial\n",
    "P4 = (y0 * ((x - x1) * (x - x2)) / ((x0 - x1) * (x0 - x2)) +\n",
    "      y1 * ((x - x0) * (x - x2)) / ((x1 - x0) * (x1 - x2)) +\n",
    "      y2 * ((x - x0) * (x - x1)) / ((x2 - x0) * (x2 - x1)))\n",
    "\n",
    "P4"
   ]
  },
  {
   "cell_type": "markdown",
   "metadata": {},
   "source": [
    "# Question 2:"
   ]
  },
  {
   "cell_type": "code",
   "execution_count": 2,
   "metadata": {},
   "outputs": [
    {
     "data": {
      "text/plain": [
       "(254151/403121,\n",
       " x*(12 - 2*x)*(16 - 2*x) - 100,\n",
       " -2*x*(12 - 2*x) - 2*x*(16 - 2*x) + (12 - 2*x)*(16 - 2*x))"
      ]
     },
     "execution_count": 2,
     "metadata": {},
     "output_type": "execute_result"
    }
   ],
   "source": [
    "from sympy import symbols, diff, solve\n",
    "\n",
    "# Define the variable\n",
    "x = symbols('x')\n",
    "\n",
    "# Define the function f(x) = (16-2x)(12-2x)x - 100\n",
    "f = (16 - 2*x) * (12 - 2*x) * x - 100\n",
    "\n",
    "# Compute the derivative f'(x)\n",
    "f_prime = diff(f, x)\n",
    "\n",
    "# Newton's method function\n",
    "def newtons_method(f, f_prime, x0, iterations):\n",
    "    x_current = x0\n",
    "    for _ in range(iterations):\n",
    "        f_value = f.subs(x, x_current)\n",
    "        f_prime_value = f_prime.subs(x, x_current)\n",
    "        x_current = x_current - f_value / f_prime_value\n",
    "    return x_current\n",
    "\n",
    "# Perform 2 iterations of Newton's method starting from x0 = 1\n",
    "initial_guess = 1\n",
    "newtons_result = newtons_method(f, f_prime, initial_guess, 2)\n",
    "\n",
    "# Return the result and also f and f_prime for clarity\n",
    "newtons_result, f, f_prime"
   ]
  }
 ],
 "metadata": {
  "kernelspec": {
   "display_name": "machine-learning-env",
   "language": "python",
   "name": "python3"
  },
  "language_info": {
   "codemirror_mode": {
    "name": "ipython",
    "version": 3
   },
   "file_extension": ".py",
   "mimetype": "text/x-python",
   "name": "python",
   "nbconvert_exporter": "python",
   "pygments_lexer": "ipython3",
   "version": "3.8.15"
  }
 },
 "nbformat": 4,
 "nbformat_minor": 2
}
