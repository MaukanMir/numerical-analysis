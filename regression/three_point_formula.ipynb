{
 "cells": [
  {
   "cell_type": "code",
   "execution_count": 1,
   "metadata": {},
   "outputs": [],
   "source": [
    "import numpy as np"
   ]
  },
  {
   "cell_type": "code",
   "execution_count": 2,
   "metadata": {},
   "outputs": [
    {
     "data": {
      "text/plain": [
       "array([4.618 , 4.7125, 4.903 , 4.999 ])"
      ]
     },
     "execution_count": 2,
     "metadata": {},
     "output_type": "execute_result"
    }
   ],
   "source": [
    "\n",
    "# Define the function values\n",
    "x_values = np.array([1.1, 1.2, 1.3, 1.4])\n",
    "f_values = np.array([5.5414, 6.0032, 6.4839, 6.9838])\n",
    "\n",
    "    # The most accurate 3-point formula for the derivative at the interior points x[i] is:\n",
    "    # (f(x[i+1]) - f(x[i-1])) / (2*h)\n",
    "    # where h is the step size, in this case x[i+1] - x[i] which is consistent and equals 0.1\n",
    "\n",
    "    # We can't apply this formula directly to the endpoints, so we will use 2-point formulas for them:\n",
    "    # Forward difference for the first point: (f(x[1]) - f(x[0])) / h\n",
    "    # Backward difference for the last point: (f(x[n]) - f(x[n-1])) / h\n",
    "\n",
    "    # Calculate the step size (assuming uniform step size for the given data)\n",
    "h = x_values[1] - x_values[0]\n",
    "\n",
    "    # Initialize the array for derivative values\n",
    "f_prime = np.zeros_like(f_values)\n",
    "\n",
    "    # Apply the 2-point forward difference formula for the first point\n",
    "f_prime[0] = (f_values[1] - f_values[0]) / h\n",
    "\n",
    "    # Apply the 3-point formula for the second and third points\n",
    "f_prime[1] = (f_values[2] - f_values[0]) / (2 * h)\n",
    "f_prime[2] = (f_values[3] - f_values[1]) / (2 * h)\n",
    "\n",
    "    # Apply the 2-point backward difference formula for the last point\n",
    "f_prime[3] = (f_values[3] - f_values[2]) / h\n",
    "\n",
    "f_prime"
   ]
  },
  {
   "cell_type": "code",
   "execution_count": 3,
   "metadata": {},
   "outputs": [
    {
     "data": {
      "text/latex": [
       "$\\displaystyle 4.7125$"
      ],
      "text/plain": [
       "4.71250000000000"
      ]
     },
     "execution_count": 3,
     "metadata": {},
     "output_type": "execute_result"
    }
   ],
   "source": [
    "from sympy import symbols, diff, ln\n",
    "\n",
    "# Define the symbol and function\n",
    "x = symbols('x')\n",
    "f = ln(x + 2) + (x + 1)**2\n",
    "\n",
    "# Calculate the derivative\n",
    "f_prime = diff(f, x)\n",
    "\n",
    "# Evaluate the derivative at x = 1.2\n",
    "f_prime_at_1_2 = f_prime.subs(x, 1.2)\n",
    "\n",
    "f_prime_at_1_2.evalf()"
   ]
  }
 ],
 "metadata": {
  "kernelspec": {
   "display_name": "machine-learning-env",
   "language": "python",
   "name": "python3"
  },
  "language_info": {
   "codemirror_mode": {
    "name": "ipython",
    "version": 3
   },
   "file_extension": ".py",
   "mimetype": "text/x-python",
   "name": "python",
   "nbconvert_exporter": "python",
   "pygments_lexer": "ipython3",
   "version": "3.8.15"
  }
 },
 "nbformat": 4,
 "nbformat_minor": 2
}
