{
 "cells": [
  {
   "cell_type": "code",
   "execution_count": 1,
   "metadata": {},
   "outputs": [],
   "source": [
    "import numpy as np"
   ]
  },
  {
   "cell_type": "code",
   "execution_count": 2,
   "metadata": {},
   "outputs": [
    {
     "data": {
      "text/plain": [
       "array([4.618 , 4.7125, 4.903 , 4.999 ])"
      ]
     },
     "execution_count": 2,
     "metadata": {},
     "output_type": "execute_result"
    }
   ],
   "source": [
    "\n",
    "# Define the function values\n",
    "x_values = np.array([1.1, 1.2, 1.3, 1.4])\n",
    "f_values = np.array([5.5414, 6.0032, 6.4839, 6.9838])\n",
    "\n",
    "    # The most accurate 3-point formula for the derivative at the interior points x[i] is:\n",
    "    # (f(x[i+1]) - f(x[i-1])) / (2*h)\n",
    "    # where h is the step size, in this case x[i+1] - x[i] which is consistent and equals 0.1\n",
    "\n",
    "    # We can't apply this formula directly to the endpoints, so we will use 2-point formulas for them:\n",
    "    # Forward difference for the first point: (f(x[1]) - f(x[0])) / h\n",
    "    # Backward difference for the last point: (f(x[n]) - f(x[n-1])) / h\n",
    "\n",
    "    # Calculate the step size (assuming uniform step size for the given data)\n",
    "h = x_values[1] - x_values[0]\n",
    "\n",
    "    # Initialize the array for derivative values\n",
    "f_prime = np.zeros_like(f_values)\n",
    "\n",
    "    # Apply the 2-point forward difference formula for the first point\n",
    "f_prime[0] = (f_values[1] - f_values[0]) / h\n",
    "\n",
    "    # Apply the 3-point formula for the second and third points\n",
    "f_prime[1] = (f_values[2] - f_values[0]) / (2 * h)\n",
    "f_prime[2] = (f_values[3] - f_values[1]) / (2 * h)\n",
    "\n",
    "    # Apply the 2-point backward difference formula for the last point\n",
    "f_prime[3] = (f_values[3] - f_values[2]) / h\n",
    "\n",
    "f_prime"
   ]
  },
  {
   "cell_type": "code",
   "execution_count": 3,
   "metadata": {},
   "outputs": [
    {
     "data": {
      "text/latex": [
       "$\\displaystyle 4.7125$"
      ],
      "text/plain": [
       "4.71250000000000"
      ]
     },
     "execution_count": 3,
     "metadata": {},
     "output_type": "execute_result"
    }
   ],
   "source": [
    "from sympy import symbols, diff, ln\n",
    "\n",
    "# Define the symbol and function\n",
    "x = symbols('x')\n",
    "f = ln(x + 2) + (x + 1)**2\n",
    "\n",
    "# Calculate the derivative\n",
    "f_prime = diff(f, x)\n",
    "\n",
    "# Evaluate the derivative at x = 1.2\n",
    "f_prime_at_1_2 = f_prime.subs(x, 1.2)\n",
    "\n",
    "f_prime_at_1_2.evalf()"
   ]
  },
  {
   "cell_type": "code",
   "execution_count": 4,
   "metadata": {},
   "outputs": [
    {
     "data": {
      "text/latex": [
       "$\\displaystyle 0.391241420045766$"
      ],
      "text/plain": [
       "0.391241420045766"
      ]
     },
     "execution_count": 4,
     "metadata": {},
     "output_type": "execute_result"
    }
   ],
   "source": [
    "from sympy import symbols, exp, sin, cos, diff\n",
    "\n",
    "# Define the symbol\n",
    "x = symbols('x')\n",
    "\n",
    "# Define the function\n",
    "f = 3*x*exp(-x) - sin(x)\n",
    "\n",
    "# Calculate the first and second derivative\n",
    "f_prime = diff(f, x)\n",
    "f_double_prime = diff(f_prime, x)\n",
    "\n",
    "# Evaluate the second derivative at x = 1.3\n",
    "f_double_prime_at_1_3 = f_double_prime.subs(x, 1.3)\n",
    "\n",
    "f_double_prime_at_1_3.evalf()"
   ]
  },
  {
   "cell_type": "code",
   "execution_count": 18,
   "metadata": {},
   "outputs": [
    {
     "name": "stdout",
     "output_type": "stream",
     "text": [
      "The 1 derivatve is: 3*x*exp(x) + 3*exp(x) - cos(x)\n",
      "The 2 derivatve is: 3*x*exp(x) + 6*exp(x) + sin(x)\n",
      "The 3 derivatve is: 3*x*exp(x) + 9*exp(x) + cos(x)\n",
      "The 4 derivatve is: 3*x*exp(x) + 12*exp(x) - sin(x)\n",
      "The 2nd derivative at 1.3 is: 37.2895951948477\n",
      "The 4th derivative at 1.3 is: 57.3782588297288\n",
      "The error for 0.1 is: -0.0478152156914407\n",
      "The error for 0.01 is: -0.000478152156914407\n"
     ]
    }
   ],
   "source": [
    "from sympy import symbols, exp, sin, diff\n",
    "\n",
    "# Define the symbol\n",
    "x = symbols('x')\n",
    "\n",
    "# Define the function\n",
    "f = 3*x*exp(x) - sin(x)\n",
    "\n",
    "# Calculate the first, second, third, and fourth derivatives\n",
    "f_prime = diff(f, x)  # First derivative\n",
    "f_double_prime = diff(f_prime, x)  # Second derivative\n",
    "f_third_prime = diff(f_double_prime, x)  # Third derivative\n",
    "f_fourth_prime = diff(f_third_prime, x)  # Fourth derivative\n",
    "\n",
    "derivatives = [f_prime, f_double_prime, f_third_prime, f_fourth_prime]\n",
    "\n",
    "for idx, derivative in enumerate(derivatives):\n",
    "  print(f\"The {idx+1} derivatve is: {derivative}\")\n",
    "\n",
    "# Evaluate the fourth derivative at x = 1.3\n",
    "f_fourth_prime_at_1_3 = f_fourth_prime.subs(x, 1.3).evalf()\n",
    "\n",
    "# Evaluate the fourth derivative at x = 1.3\n",
    "f_double_prime_at_1_3  = f_double_prime.subs(x, 1.3).evalf() # Second derivative\n",
    "\n",
    "print(f\"The 2nd derivative at 1.3 is: {f_double_prime_at_1_3}\")\n",
    "print(f\"The 4th derivative at 1.3 is: {f_fourth_prime_at_1_3}\")\n",
    "\n",
    "print(f\"The error for 0.1 is: {-((0.1**2)/12) * f_fourth_prime_at_1_3}\")\n",
    "print(f\"The error for 0.01 is: {-((0.01**2)/12) * f_fourth_prime_at_1_3}\")"
   ]
  },
  {
   "cell_type": "code",
   "execution_count": 13,
   "metadata": {},
   "outputs": [
    {
     "data": {
      "text/plain": [
       "37.65218478430826"
      ]
     },
     "execution_count": 13,
     "metadata": {},
     "output_type": "execute_result"
    }
   ],
   "source": [
    "\n",
    "dict_values = {1.20:11.024, 1.29:13.0980, 1.30:13.3467,1.31:13.5992, 1.40:16.0464 }\n",
    "error= -0.0478152156914407\n",
    "\n",
    "h = 0.1\n",
    "result = (((dict_values[1.20]) - 2*(dict_values[1.30])+ ((dict_values[1.40])))/h**2) + error\n",
    "result\n"
   ]
  },
  {
   "cell_type": "code",
   "execution_count": 16,
   "metadata": {},
   "outputs": [
    {
     "data": {
      "text/plain": [
       "37.99952184784334"
      ]
     },
     "execution_count": 16,
     "metadata": {},
     "output_type": "execute_result"
    }
   ],
   "source": [
    "\n",
    "dict_values = {1.20:11.024, 1.29:13.0980, 1.30:13.3467,1.31:13.5992, 1.40:16.0464 }\n",
    "error= -0.000478152156914407\n",
    "\n",
    "h = 0.01\n",
    "result = (((dict_values[1.29]) - 2*(dict_values[1.30])+ ((dict_values[1.31])))/h**2) + error\n",
    "result"
   ]
  },
  {
   "cell_type": "code",
   "execution_count": 20,
   "metadata": {},
   "outputs": [
    {
     "data": {
      "text/plain": [
       "-2.833333333333332"
      ]
     },
     "execution_count": 20,
     "metadata": {},
     "output_type": "execute_result"
    }
   ],
   "source": [
    "# Given values\n",
    "current_values = {1.00: 2.10, 1.01: 2.12, 1.02: 2.14, 1.03: 2.18, 1.04: 2.24}\n",
    "h = 0.01  # step size\n",
    "\n",
    "# 5-point stencil formula for the first derivative at t = 1.02\n",
    "di_dt_at_1_02 = (-current_values[1.00] + 8*current_values[1.01] - 8*current_values[1.03] + current_values[1.04]) / (12*h)\n",
    "\n",
    "di_dt_at_1_02"
   ]
  },
  {
   "cell_type": "code",
   "execution_count": 21,
   "metadata": {},
   "outputs": [
    {
     "data": {
      "text/plain": [
       "-2.4727866666666656"
      ]
     },
     "execution_count": 21,
     "metadata": {},
     "output_type": "execute_result"
    }
   ],
   "source": [
    "L = 0.98\n",
    "R=0.142\n",
    "\n",
    "L * di_dt_at_1_02 + R* current_values[1.02]\n"
   ]
  },
  {
   "cell_type": "code",
   "execution_count": null,
   "metadata": {},
   "outputs": [],
   "source": []
  }
 ],
 "metadata": {
  "kernelspec": {
   "display_name": "machine-learning-env",
   "language": "python",
   "name": "python3"
  },
  "language_info": {
   "codemirror_mode": {
    "name": "ipython",
    "version": 3
   },
   "file_extension": ".py",
   "mimetype": "text/x-python",
   "name": "python",
   "nbconvert_exporter": "python",
   "pygments_lexer": "ipython3",
   "version": "3.8.15"
  }
 },
 "nbformat": 4,
 "nbformat_minor": 2
}
