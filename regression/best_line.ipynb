{
 "cells": [
  {
   "cell_type": "code",
   "execution_count": 5,
   "metadata": {},
   "outputs": [],
   "source": [
    "import numpy as np\n",
    "from numpy.linalg import lstsq"
   ]
  },
  {
   "cell_type": "code",
   "execution_count": 6,
   "metadata": {},
   "outputs": [
    {
     "name": "stdout",
     "output_type": "stream",
     "text": [
      "[[4.8e+03 1.0e+00]\n",
      " [3.7e+03 1.0e+00]\n",
      " [3.4e+03 1.0e+00]\n",
      " [2.8e+03 1.0e+00]\n",
      " [1.9e+03 1.0e+00]]\n",
      "[3.1 4.8 5.2 6.4 8.6]\n"
     ]
    }
   ],
   "source": [
    "# Given data for Problem 1\n",
    "weights = np.array([4800, 3700, 3400, 2800, 1900])  # in lbs\n",
    "percent_occurrence = np.array([3.1, 4.8, 5.2, 6.4, 8.6])  # in percent\n",
    "\n",
    "# Setting up the matrices for the least squares calculation\n",
    "# X matrix with a column of ones for the intercept\n",
    "X = np.vstack([weights, np.ones(len(weights))]).T\n",
    "y = percent_occurrence\n",
    "\n",
    "print(X)\n",
    "print(y)\n"
   ]
  },
  {
   "cell_type": "code",
   "execution_count": 7,
   "metadata": {},
   "outputs": [],
   "source": [
    "# Least squares approximation\n",
    "m, b = lstsq(X, y, rcond=None)[0]\n",
    "\n",
    "# Use the line to predict the chance for a 3000 lb car\n",
    "predicted_weight = 3000\n",
    "predicted_chance = m * predicted_weight + b"
   ]
  },
  {
   "cell_type": "code",
   "execution_count": 8,
   "metadata": {},
   "outputs": [
    {
     "data": {
      "text/plain": [
       "(-0.0018824546240276585, 11.869749351771821, 6.222385479688845)"
      ]
     },
     "execution_count": 8,
     "metadata": {},
     "output_type": "execute_result"
    }
   ],
   "source": [
    "# Output the slope, intercept, and predicted chance\n",
    "(m, b, predicted_chance)"
   ]
  },
  {
   "cell_type": "markdown",
   "metadata": {},
   "source": [
    "# Alternative way to compute this"
   ]
  },
  {
   "cell_type": "code",
   "execution_count": 9,
   "metadata": {},
   "outputs": [
    {
     "data": {
      "text/plain": [
       "array([-1.88245462e-03,  1.18697494e+01])"
      ]
     },
     "execution_count": 9,
     "metadata": {},
     "output_type": "execute_result"
    }
   ],
   "source": [
    "# Another way of looking at it mathematically\n",
    "\n",
    "XT_X = X.T.dot(X)\n",
    "inv_XT_X = np.linalg.inv(XT_X)\n",
    "\n",
    "XT_y = X.T.dot(y)\n",
    "\n",
    "least_squares_solution = inv_XT_X.dot(XT_y)\n",
    "\n",
    "least_squares_solution"
   ]
  },
  {
   "cell_type": "code",
   "execution_count": 11,
   "metadata": {},
   "outputs": [
    {
     "data": {
      "text/plain": [
       "6.222385479688853"
      ]
     },
     "execution_count": 11,
     "metadata": {},
     "output_type": "execute_result"
    }
   ],
   "source": [
    "least_squares_solution[0] * predicted_weight + least_squares_solution[1]"
   ]
  },
  {
   "cell_type": "code",
   "execution_count": null,
   "metadata": {},
   "outputs": [],
   "source": []
  }
 ],
 "metadata": {
  "kernelspec": {
   "display_name": "machine-learning-env",
   "language": "python",
   "name": "python3"
  },
  "language_info": {
   "codemirror_mode": {
    "name": "ipython",
    "version": 3
   },
   "file_extension": ".py",
   "mimetype": "text/x-python",
   "name": "python",
   "nbconvert_exporter": "python",
   "pygments_lexer": "ipython3",
   "version": "3.8.15"
  }
 },
 "nbformat": 4,
 "nbformat_minor": 2
}
