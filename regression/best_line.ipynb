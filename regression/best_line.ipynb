{
 "cells": [
  {
   "cell_type": "code",
   "execution_count": 1,
   "metadata": {},
   "outputs": [],
   "source": [
    "import numpy as np\n",
    "from numpy.linalg import lstsq"
   ]
  },
  {
   "cell_type": "code",
   "execution_count": 2,
   "metadata": {},
   "outputs": [
    {
     "data": {
      "text/plain": [
       "(-0.0018824546240276585, 11.869749351771821, 6.222385479688845)"
      ]
     },
     "execution_count": 2,
     "metadata": {},
     "output_type": "execute_result"
    }
   ],
   "source": [
    "# Given data for Problem 1\n",
    "weights = np.array([4800, 3700, 3400, 2800, 1900])  # in lbs\n",
    "percent_occurrence = np.array([3.1, 4.8, 5.2, 6.4, 8.6])  # in percent\n",
    "\n",
    "# Setting up the matrices for the least squares calculation\n",
    "# X matrix with a column of ones for the intercept\n",
    "X = np.vstack([weights, np.ones(len(weights))]).T\n",
    "y = percent_occurrence\n",
    "\n",
    "# Least squares approximation\n",
    "m, b = lstsq(X, y, rcond=None)[0]\n",
    "\n",
    "# Use the line to predict the chance for a 3000 lb car\n",
    "predicted_weight = 3000\n",
    "predicted_chance = m * predicted_weight + b\n",
    "\n",
    "# Output the slope, intercept, and predicted chance\n",
    "(m, b, predicted_chance)"
   ]
  }
 ],
 "metadata": {
  "kernelspec": {
   "display_name": "machine-learning-env",
   "language": "python",
   "name": "python3"
  },
  "language_info": {
   "codemirror_mode": {
    "name": "ipython",
    "version": 3
   },
   "file_extension": ".py",
   "mimetype": "text/x-python",
   "name": "python",
   "nbconvert_exporter": "python",
   "pygments_lexer": "ipython3",
   "version": "3.8.15"
  }
 },
 "nbformat": 4,
 "nbformat_minor": 2
}
