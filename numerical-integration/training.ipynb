{
 "cells": [
  {
   "cell_type": "markdown",
   "metadata": {},
   "source": [
    "# Question 2"
   ]
  },
  {
   "cell_type": "code",
   "execution_count": 1,
   "metadata": {},
   "outputs": [
    {
     "data": {
      "text/plain": [
       "{c0: 0.0, c1: 2.25000000000000, c2: 0.750000000000000}"
      ]
     },
     "execution_count": 1,
     "metadata": {},
     "output_type": "execute_result"
    }
   ],
   "source": [
    "from sympy import symbols, Eq, solve\n",
    "\n",
    "# Define the symbols\n",
    "c0, c1, c2 = symbols('c0 c1 c2')\n",
    "\n",
    "# Set up the equations based on the integration of polynomials\n",
    "eq1 = Eq(c0 + c1 + c2, 3)\n",
    "eq2 = Eq(c1 + 3*c2, 9/2)\n",
    "eq3 = Eq(c1 + 9*c2, 9)\n",
    "\n",
    "# Solve the system of equations\n",
    "solutions = solve((eq1, eq2, eq3), (c0, c1, c2))\n",
    "solutions"
   ]
  },
  {
   "cell_type": "code",
   "execution_count": 2,
   "metadata": {},
   "outputs": [
    {
     "data": {
      "text/latex": [
       "$\\displaystyle 4.67874346877963$"
      ],
      "text/plain": [
       "4.67874346877963"
      ]
     },
     "execution_count": 2,
     "metadata": {},
     "output_type": "execute_result"
    }
   ],
   "source": [
    "import numpy as np\n",
    "\n",
    "# Define the function f(x)\n",
    "def f(x):\n",
    "    return x * np.log(x + 1)\n",
    "\n",
    "# Use the computed coefficients to evaluate the integral with the quadrature formula\n",
    "integral_approximation = solutions[c1] * f(1) + solutions[c2] * f(3)\n",
    "integral_approximation.evalf()"
   ]
  },
  {
   "cell_type": "markdown",
   "metadata": {},
   "source": [
    "# Question 1"
   ]
  },
  {
   "cell_type": "code",
   "execution_count": 3,
   "metadata": {},
   "outputs": [
    {
     "data": {
      "text/plain": [
       "{a: -1/12, b: -2/3, c: 3/4}"
      ]
     },
     "execution_count": 3,
     "metadata": {},
     "output_type": "execute_result"
    }
   ],
   "source": [
    "from sympy import symbols, Eq, solve\n",
    "\n",
    "# Define the symbols for the constants\n",
    "a, b, c = symbols('a b c')\n",
    "\n",
    "# Set up the system of equations\n",
    "eq1 = Eq(a + b + c, 0)    # From degree 0 polynomial\n",
    "eq2 = Eq(-3*a + c, 1)     # From degree 1 polynomial\n",
    "eq3 = Eq(9*a + c, 0)      # From degree 2 polynomial\n",
    "\n",
    "# Solve the system of equations\n",
    "solution = solve((eq1, eq2, eq3), (a, b, c))\n",
    "solution"
   ]
  }
 ],
 "metadata": {
  "kernelspec": {
   "display_name": "machine-learning-env",
   "language": "python",
   "name": "python3"
  },
  "language_info": {
   "codemirror_mode": {
    "name": "ipython",
    "version": 3
   },
   "file_extension": ".py",
   "mimetype": "text/x-python",
   "name": "python",
   "nbconvert_exporter": "python",
   "pygments_lexer": "ipython3",
   "version": "3.8.15"
  }
 },
 "nbformat": 4,
 "nbformat_minor": 2
}
