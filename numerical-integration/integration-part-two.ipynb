{
 "cells": [
  {
   "cell_type": "code",
   "execution_count": 1,
   "metadata": {},
   "outputs": [
    {
     "data": {
      "text/plain": [
       "1.6642166038083746"
      ]
     },
     "execution_count": 1,
     "metadata": {},
     "output_type": "execute_result"
    }
   ],
   "source": [
    "import numpy as np\n",
    "\n",
    "# Define the function to integrate\n",
    "def f(x):\n",
    "    return x * np.log(x + 1)\n",
    "\n",
    "# Limits of integration\n",
    "a, b = 0, 2\n",
    "\n",
    "# Number of trapezoids\n",
    "n = 6\n",
    "\n",
    "# Width of each trapezoid\n",
    "h = (b - a) / n\n",
    "\n",
    "# Calculate the x values\n",
    "x_values = np.linspace(a, b, n+1)\n",
    "\n",
    "# Calculate the y values\n",
    "y_values = f(x_values)\n",
    "\n",
    "# Apply the trapezoidal rule\n",
    "trapezoidal_approximation = (h/2) * (y_values[0] + 2*np.sum(y_values[1:n]) + y_values[n])\n",
    "\n",
    "trapezoidal_approximation"
   ]
  }
 ],
 "metadata": {
  "kernelspec": {
   "display_name": "machine-learning-env",
   "language": "python",
   "name": "python3"
  },
  "language_info": {
   "codemirror_mode": {
    "name": "ipython",
    "version": 3
   },
   "file_extension": ".py",
   "mimetype": "text/x-python",
   "name": "python",
   "nbconvert_exporter": "python",
   "pygments_lexer": "ipython3",
   "version": "3.8.15"
  }
 },
 "nbformat": 4,
 "nbformat_minor": 2
}
