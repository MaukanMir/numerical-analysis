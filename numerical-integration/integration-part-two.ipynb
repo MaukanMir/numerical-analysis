{
 "cells": [
  {
   "cell_type": "code",
   "execution_count": 1,
   "metadata": {},
   "outputs": [
    {
     "data": {
      "text/plain": [
       "1.6642166038083746"
      ]
     },
     "execution_count": 1,
     "metadata": {},
     "output_type": "execute_result"
    }
   ],
   "source": [
    "import numpy as np\n",
    "\n",
    "# Define the function to integrate\n",
    "def f(x):\n",
    "    return x * np.log(x + 1)\n",
    "\n",
    "# Limits of integration\n",
    "a, b = 0, 2\n",
    "\n",
    "# Number of trapezoids\n",
    "n = 6\n",
    "\n",
    "# Width of each trapezoid\n",
    "h = (b - a) / n\n",
    "\n",
    "# Calculate the x values\n",
    "x_values = np.linspace(a, b, n+1)\n",
    "\n",
    "# Calculate the y values\n",
    "y_values = f(x_values)\n",
    "\n",
    "# Apply the trapezoidal rule\n",
    "trapezoidal_approximation = (h/2) * (y_values[0] + 2*np.sum(y_values[1:n]) + y_values[n])\n",
    "\n",
    "trapezoidal_approximation"
   ]
  },
  {
   "cell_type": "code",
   "execution_count": 2,
   "metadata": {},
   "outputs": [
    {
     "data": {
      "text/plain": [
       "1.6480903195159715"
      ]
     },
     "execution_count": 2,
     "metadata": {},
     "output_type": "execute_result"
    }
   ],
   "source": [
    "# Define a function for Composite Simpson's rule\n",
    "def composite_simpsons_rule(a, b, n, function):\n",
    "    # Width of each subinterval\n",
    "    h = (b - a) / n\n",
    "    \n",
    "    # Ensure that n is even\n",
    "    if n % 2 != 0:\n",
    "        raise ValueError(\"n must be even for Simpson's rule.\")\n",
    "    \n",
    "    # x values for the rule\n",
    "    x_values = np.linspace(a, b, n+1)\n",
    "    \n",
    "    # f(x) values for the rule\n",
    "    f_values = function(x_values)\n",
    "    \n",
    "    # Simpson's rule\n",
    "    integral = (h/3) * (f_values[0] + f_values[-1] + 4*np.sum(f_values[1:-1:2]) + 2*np.sum(f_values[2:-2:2]))\n",
    "    \n",
    "    return integral\n",
    "\n",
    "# Apply Composite Simpson's rule for n = 6\n",
    "simpsons_approximation = composite_simpsons_rule(a, b, n, f)\n",
    "simpsons_approximation\n"
   ]
  },
  {
   "cell_type": "code",
   "execution_count": 4,
   "metadata": {},
   "outputs": [
    {
     "data": {
      "text/plain": [
       "8216.666666666668"
      ]
     },
     "execution_count": 4,
     "metadata": {},
     "output_type": "execute_result"
    }
   ],
   "source": [
    "# We are given speed at each 5 second interval, and we need to find the total distance covered.\n",
    "# We can estimate the distance using Simpson's rule, treating speed as a function of time.\n",
    "\n",
    "# The time intervals and speeds are given by:\n",
    "times = np.array([0, 5, 10, 15, 20, 25, 30, 35, 40, 45, 50, 55, 60, 65, 70])\n",
    "speeds = np.array([122, 136, 150, 154, 146, 132, 120, 110, 98, 85, 78, 89, 106, 116, 124])\n",
    "\n",
    "# Since the intervals are evenly spaced and there are an even number of intervals, we can apply Simpson's rule directly.\n",
    "# In this case, h is the time interval, which is 5 seconds.\n",
    "h = 5\n",
    "\n",
    "# Using Simpson's rule:\n",
    "distance = (h/3) * (speeds[0] + speeds[-1] + 4*np.sum(speeds[1:-1:2]) + 2*np.sum(speeds[2:-2:2]))\n",
    "\n",
    "distance"
   ]
  }
 ],
 "metadata": {
  "kernelspec": {
   "display_name": "machine-learning-env",
   "language": "python",
   "name": "python3"
  },
  "language_info": {
   "codemirror_mode": {
    "name": "ipython",
    "version": 3
   },
   "file_extension": ".py",
   "mimetype": "text/x-python",
   "name": "python",
   "nbconvert_exporter": "python",
   "pygments_lexer": "ipython3",
   "version": "3.8.15"
  }
 },
 "nbformat": 4,
 "nbformat_minor": 2
}
