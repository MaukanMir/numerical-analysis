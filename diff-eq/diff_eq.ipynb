{
 "cells": [
  {
   "cell_type": "markdown",
   "metadata": {},
   "source": [
    "# Question 1"
   ]
  },
  {
   "cell_type": "code",
   "execution_count": 1,
   "metadata": {},
   "outputs": [
    {
     "data": {
      "text/plain": [
       "[(1, 2), (1.5, 3.5), (2.0, 5.166666666666667)]"
      ]
     },
     "execution_count": 1,
     "metadata": {},
     "output_type": "execute_result"
    }
   ],
   "source": [
    "def euler_method(f, t0, y0, h, n):\n",
    "    \"\"\"Euler's method for solving differential equations.\n",
    "    Args:\n",
    "    f: The derivative function of y, f(t, y).\n",
    "    t0: Initial time.\n",
    "    y0: Initial value of y at time t0.\n",
    "    h: Step size.\n",
    "    n: Number of steps to perform.\n",
    "\n",
    "    Returns:\n",
    "    List of tuples where each tuple contains (t, y) values.\n",
    "    \"\"\"\n",
    "    points = [(t0, y0)]\n",
    "    t = t0\n",
    "    y = y0\n",
    "    for _ in range(n):\n",
    "        y += h * f(t, y)\n",
    "        t += h\n",
    "        points.append((t, y))\n",
    "    return points\n",
    "\n",
    "# Define the function f(t, y) = 1 + y/t\n",
    "f = lambda t, y: 1 + y / t\n",
    "\n",
    "# Initial conditions and parameters\n",
    "t0 = 1\n",
    "y0 = 2\n",
    "h = 0.5\n",
    "n = 2  # Number of steps (from t=1 to t=2 with step size 0.5)\n",
    "\n",
    "# Calculate the points using Euler's method\n",
    "euler_points = euler_method(f, t0, y0, h, n)\n",
    "euler_points\n"
   ]
  }
 ],
 "metadata": {
  "kernelspec": {
   "display_name": "machine-learning-env",
   "language": "python",
   "name": "python3"
  },
  "language_info": {
   "codemirror_mode": {
    "name": "ipython",
    "version": 3
   },
   "file_extension": ".py",
   "mimetype": "text/x-python",
   "name": "python",
   "nbconvert_exporter": "python",
   "pygments_lexer": "ipython3",
   "version": "3.8.15"
  }
 },
 "nbformat": 4,
 "nbformat_minor": 2
}
