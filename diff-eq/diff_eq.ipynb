{
 "cells": [
  {
   "cell_type": "markdown",
   "metadata": {},
   "source": [
    "# Question 1"
   ]
  },
  {
   "cell_type": "code",
   "execution_count": 4,
   "metadata": {},
   "outputs": [
    {
     "data": {
      "text/plain": [
       "[(1, 2),\n",
       " (1.5, 3.5),\n",
       " (2.0, 5.166666666666667),\n",
       " (2.5, 6.958333333333334),\n",
       " (3.0, 8.850000000000001)]"
      ]
     },
     "execution_count": 4,
     "metadata": {},
     "output_type": "execute_result"
    }
   ],
   "source": [
    "def euler_method(f, t0, y0, h, n):\n",
    "    \"\"\"Euler's method for solving differential equations.\n",
    "    Args:\n",
    "    f: The derivative function of y, f(t, y).\n",
    "    t0: Initial time.\n",
    "    y0: Initial value of y at time t0.\n",
    "    h: Step size.\n",
    "    n: Number of steps to perform.\n",
    "\n",
    "    Returns:\n",
    "    List of tuples where each tuple contains (t, y) values.\n",
    "    \"\"\"\n",
    "    points = [(t0, y0)]\n",
    "    t = t0\n",
    "    y = y0\n",
    "    for _ in range(n):\n",
    "        y += h * f(t, y)\n",
    "        t += h\n",
    "        points.append((t, y))\n",
    "    return points\n",
    "\n",
    "# Define the function f(t, y) = 1 + y/t\n",
    "f = lambda t, y: 1 + y / t\n",
    "\n",
    "# Initial conditions and parameters\n",
    "t0 = 1\n",
    "y0 = 2\n",
    "h = 0.5\n",
    "n = 4  # Number of steps (from t=1 to t=2 with step size 0.5)\n",
    "\n",
    "# Calculate the points using Euler's method\n",
    "euler_points = euler_method(f, t0, y0, h, n)\n",
    "euler_points\n"
   ]
  },
  {
   "cell_type": "markdown",
   "metadata": {},
   "source": [
    "# Question 2"
   ]
  },
  {
   "cell_type": "code",
   "execution_count": 5,
   "metadata": {},
   "outputs": [
    {
     "data": {
      "text/plain": [
       "[(1.0, 2, 2.0, 0.0),\n",
       " (1.5, 3.5, 3.6081976621622465, 0.10819766216224647),\n",
       " (2.0, 5.166666666666667, 5.386294361119891, 0.21962769445322383)]"
      ]
     },
     "execution_count": 5,
     "metadata": {},
     "output_type": "execute_result"
    }
   ],
   "source": [
    "import numpy as np\n",
    "\n",
    "# Define the actual solution function\n",
    "def actual_solution(t):\n",
    "    return t * np.log(t) + 2 * t\n",
    "\n",
    "# Points at which to evaluate the error\n",
    "t_values = [1.0, 1.5, 2.0]\n",
    "\n",
    "# Corresponding approximate values from Euler's method at these points\n",
    "# These values were previously calculated\n",
    "euler_values = [2, 3.5, 5.166666666666667]\n",
    "\n",
    "# Calculate the actual values at t = 1.0, 1.5, and 2.0\n",
    "actual_values = [actual_solution(t) for t in t_values]\n",
    "\n",
    "# Calculate the actual errors\n",
    "actual_errors = [abs(euler - actual) for euler, actual in zip(euler_values, actual_values)]\n",
    "\n",
    "# Package the results together to view\n",
    "results = list(zip(t_values, euler_values, actual_values, actual_errors))\n",
    "results\n"
   ]
  }
 ],
 "metadata": {
  "kernelspec": {
   "display_name": "machine-learning-env",
   "language": "python",
   "name": "python3"
  },
  "language_info": {
   "codemirror_mode": {
    "name": "ipython",
    "version": 3
   },
   "file_extension": ".py",
   "mimetype": "text/x-python",
   "name": "python",
   "nbconvert_exporter": "python",
   "pygments_lexer": "ipython3",
   "version": "3.8.15"
  }
 },
 "nbformat": 4,
 "nbformat_minor": 2
}
