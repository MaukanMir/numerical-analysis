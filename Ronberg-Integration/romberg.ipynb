{
 "cells": [
  {
   "cell_type": "markdown",
   "metadata": {},
   "source": [
    "# Question 1"
   ]
  },
  {
   "cell_type": "code",
   "execution_count": 1,
   "metadata": {},
   "outputs": [
    {
     "data": {
      "text/plain": [
       "(0.34657359027997264,\n",
       " 0.2746530721670274,\n",
       " 0.25620096827854355,\n",
       " 0.250679566129379,\n",
       " 0.25005026698238225,\n",
       " 0.2500083137059158)"
      ]
     },
     "execution_count": 1,
     "metadata": {},
     "output_type": "execute_result"
    }
   ],
   "source": [
    "import numpy as np\n",
    "\n",
    "# The function to be integrated\n",
    "def f(x):\n",
    "    return x * np.log(x + 1)\n",
    "\n",
    "# The trapezoidal rule\n",
    "def trapezoidal_rule(a, b, n):\n",
    "    h = (b - a) / n\n",
    "    x = np.linspace(a, b, n+1)\n",
    "    y = f(x)\n",
    "    return (h/2) * (y[0] + 2*np.sum(y[1:-1]) + y[-1])\n",
    "\n",
    "# Romberg integration requires R_{1,1}, R_{2,1}, R_{3,1}, then R_{2,2}, R_{3,2}, and finally R_{3,3}\n",
    "# Start by calculating the trapezoidal approximations\n",
    "\n",
    "# R_{1,1} with 1 interval\n",
    "R_1_1 = trapezoidal_rule(0, 1, 1)\n",
    "\n",
    "# R_{2,1} with 2 intervals\n",
    "R_2_1 = trapezoidal_rule(0, 1, 2)\n",
    "\n",
    "# R_{3,1} with 4 intervals\n",
    "R_3_1 = trapezoidal_rule(0, 1, 4)\n",
    "\n",
    "# Now, calculate R_{2,2}\n",
    "R_2_2 = R_2_1 + (1 / (4**1 - 1)) * (R_2_1 - R_1_1)\n",
    "\n",
    "# Next, calculate R_{3,2}\n",
    "R_3_2 = R_3_1 + (1 / (4**1 - 1)) * (R_3_1 - R_2_1)\n",
    "\n",
    "# Finally, calculate R_{3,3}\n",
    "R_3_3 = R_3_2 + (1 / (4**2 - 1)) * (R_3_2 - R_2_2)\n",
    "\n",
    "R_1_1, R_2_1, R_3_1, R_2_2, R_3_2, R_3_3"
   ]
  },
  {
   "cell_type": "markdown",
   "metadata": {},
   "source": [
    "# Question 2"
   ]
  },
  {
   "cell_type": "code",
   "execution_count": 5,
   "metadata": {},
   "outputs": [
    {
     "data": {
      "text/plain": [
       "11.520700000000001"
      ]
     },
     "execution_count": 5,
     "metadata": {},
     "output_type": "execute_result"
    }
   ],
   "source": [
    "# Given data points\n",
    "x_points = np.array([1, 2, 3, 4, 5])\n",
    "# f_values = np.array([2.4766, 2.5428, 2.8049, 3.2622, 3.9063])\n",
    "f_values = np.array([2.4142, 2.6734, 2.8974, 3.0976, 3.2904])\n",
    "\n",
    "# The width of each subinterval\n",
    "h = 1  # Since the x intervals are equally spaced\n",
    "\n",
    "# Apply the trapezoidal rule\n",
    "integral_approximation = (h / 2) * (f_values[0] + 2 * np.sum(f_values[1:-1]) + f_values[-1])\n",
    "integral_approximation"
   ]
  },
  {
   "cell_type": "markdown",
   "metadata": {},
   "source": [
    "# Question 3"
   ]
  },
  {
   "cell_type": "code",
   "execution_count": 3,
   "metadata": {},
   "outputs": [
    {
     "data": {
      "text/plain": [
       "0.21324999999999997"
      ]
     },
     "execution_count": 3,
     "metadata": {},
     "output_type": "execute_result"
    }
   ],
   "source": [
    "# Given values for R_{1,1} and R_{2,2}\n",
    "R_1_1 = 0.250\n",
    "R_2_2 = 0.2255\n",
    "\n",
    "# Using the formula R_{2,2} = R_{2,1} + (R_{2,1} - R_{1,1}) / (4^1 - 1) to solve for R_{2,1}\n",
    "# Rearrange the formula to solve for R_{2,1}\n",
    "R_2_1 = (R_2_2 - R_1_1 / (4 - 1)) / (1 - 1 / (4 - 1))\n",
    "R_2_1"
   ]
  },
  {
   "cell_type": "markdown",
   "metadata": {},
   "source": [
    "# Question 4"
   ]
  },
  {
   "cell_type": "code",
   "execution_count": 7,
   "metadata": {},
   "outputs": [
    {
     "data": {
      "text/plain": [
       "5.333333333333333"
      ]
     },
     "execution_count": 7,
     "metadata": {},
     "output_type": "execute_result"
    }
   ],
   "source": [
    "# Given values for R_{1,1} and R_{2,2}\n",
    "R_1_1 = 4\n",
    "R_2_2 = 5\n",
    "\n",
    "# Using the rearranged Richardson extrapolation formula to solve for R_{2,1}\n",
    "R_2_1 = (4 * R_2_2 - R_1_1) / 3\n",
    "R_2_1"
   ]
  }
 ],
 "metadata": {
  "kernelspec": {
   "display_name": "machine-learning-env",
   "language": "python",
   "name": "python3"
  },
  "language_info": {
   "codemirror_mode": {
    "name": "ipython",
    "version": 3
   },
   "file_extension": ".py",
   "mimetype": "text/x-python",
   "name": "python",
   "nbconvert_exporter": "python",
   "pygments_lexer": "ipython3",
   "version": "3.8.15"
  }
 },
 "nbformat": 4,
 "nbformat_minor": 2
}
